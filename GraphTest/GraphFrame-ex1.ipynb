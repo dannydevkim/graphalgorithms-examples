{
 "cells": [
  {
   "cell_type": "code",
   "execution_count": 1,
   "metadata": {},
   "outputs": [],
   "source": [
    "## Retrieved from http://towardsdatascience.com/graphframes-in-jupyter-a-practical-guide-9b3b346cebc5\n",
    "from pyspark import *\n",
    "from pyspark.sql import *\n",
    "from graphframes import *"
   ]
  },
  {
   "cell_type": "code",
   "execution_count": 2,
   "metadata": {},
   "outputs": [],
   "source": [
    "spark = SparkSession.builder.appName('fun').getOrCreate()"
   ]
  },
  {
   "cell_type": "code",
   "execution_count": 3,
   "metadata": {},
   "outputs": [],
   "source": [
    "vertices = spark.createDataFrame([('1', 'Carter', 'Derrick', 50),\n",
    "                                  ('2', 'May', 'Derrick', 26),\n",
    "                                  ('3', 'Mills', 'Jeff', 80),\n",
    "                                  ('4', 'Hood', 'Robert', 65),\n",
    "                                  ('5', 'Banks','Mike', 93),\n",
    "                                  ('98', 'Berg','Tim', 28),\n",
    "                                  ('99', 'Page', 'Allan', 16)],\n",
    "                                 ['id','name','firstname','age'])"
   ]
  },
  {
   "cell_type": "code",
   "execution_count": 4,
   "metadata": {},
   "outputs": [],
   "source": [
    "edges= spark.createDataFrame([('1','2','friend'),\n",
    "                             ('2','1','friend'),\n",
    "                             ('3','1','friend'),\n",
    "                             ('1','3','friend'),\n",
    "                             ('2','3','follows'),\n",
    "                             ('3','4','friend'),\n",
    "                             ('4','3','friend'),\n",
    "                             ('5','3','friend'),\n",
    "                             ('3','5','friend'),\n",
    "                             ('4','5','follows'),\n",
    "                             ('98','99','friend'),\n",
    "                             ('99','98','friend')],\n",
    "                            ['src','dst','type'])"
   ]
  },
  {
   "cell_type": "code",
   "execution_count": 5,
   "metadata": {},
   "outputs": [],
   "source": [
    "g = GraphFrame(vertices, edges)"
   ]
  },
  {
   "cell_type": "code",
   "execution_count": 19,
   "metadata": {},
   "outputs": [
    {
     "name": "stdout",
     "output_type": "stream",
     "text": [
      "root\n",
      " |-- id: string (nullable = true)\n",
      " |-- name: string (nullable = true)\n",
      " |-- firstname: string (nullable = true)\n",
      " |-- age: long (nullable = true)\n",
      "\n",
      "root\n",
      " |-- src: string (nullable = true)\n",
      " |-- dst: string (nullable = true)\n",
      " |-- type: string (nullable = true)\n",
      "\n"
     ]
    }
   ],
   "source": [
    "## Take a look at the schema of the Dataframes\n",
    "vertices.printSchema()\n",
    "edges.printSchema()"
   ]
  },
  {
   "cell_type": "code",
   "execution_count": 6,
   "metadata": {},
   "outputs": [
    {
     "name": "stdout",
     "output_type": "stream",
     "text": [
      "+---+------+---------+---+\n",
      "| id|  name|firstname|age|\n",
      "+---+------+---------+---+\n",
      "|  1|Carter|  Derrick| 50|\n",
      "|  2|   May|  Derrick| 26|\n",
      "|  3| Mills|     Jeff| 80|\n",
      "|  4|  Hood|   Robert| 65|\n",
      "|  5| Banks|     Mike| 93|\n",
      "| 98|  Berg|      Tim| 28|\n",
      "| 99|  Page|    Allan| 16|\n",
      "+---+------+---------+---+\n",
      "\n",
      "+---+---+-------+\n",
      "|src|dst|   type|\n",
      "+---+---+-------+\n",
      "|  1|  2| friend|\n",
      "|  2|  1| friend|\n",
      "|  3|  1| friend|\n",
      "|  1|  3| friend|\n",
      "|  2|  3|follows|\n",
      "|  3|  4| friend|\n",
      "|  4|  3| friend|\n",
      "|  5|  3| friend|\n",
      "|  3|  5| friend|\n",
      "|  4|  5|follows|\n",
      "| 98| 99| friend|\n",
      "| 99| 98| friend|\n",
      "+---+---+-------+\n",
      "\n"
     ]
    }
   ],
   "source": [
    "## Take a look at the DataFrames\n",
    "g.vertices.show()\n",
    "g.edges.show()"
   ]
  },
  {
   "cell_type": "code",
   "execution_count": 7,
   "metadata": {},
   "outputs": [
    {
     "name": "stdout",
     "output_type": "stream",
     "text": [
      "+---+------+\n",
      "| id|degree|\n",
      "+---+------+\n",
      "|  3|     7|\n",
      "| 98|     2|\n",
      "| 99|     2|\n",
      "|  5|     3|\n",
      "|  1|     4|\n",
      "|  4|     3|\n",
      "|  2|     3|\n",
      "+---+------+\n",
      "\n"
     ]
    }
   ],
   "source": [
    "## Check the number of edges of each vertex\n",
    "g.degrees.show()"
   ]
  },
  {
   "cell_type": "code",
   "execution_count": 8,
   "metadata": {},
   "outputs": [],
   "source": [
    "## Directed vs undirected edges\n",
    "##\n",
    "## Start with directed and undirected edges"
   ]
  },
  {
   "cell_type": "code",
   "execution_count": 9,
   "metadata": {},
   "outputs": [],
   "source": [
    "copy = edges"
   ]
  },
  {
   "cell_type": "code",
   "execution_count": 12,
   "metadata": {},
   "outputs": [],
   "source": [
    "from pyspark.sql.functions import udf"
   ]
  },
  {
   "cell_type": "code",
   "execution_count": 18,
   "metadata": {},
   "outputs": [],
   "source": [
    "@udf(\"string\")\n",
    "\n",
    "def to_undir(src, dst):\n",
    "    if src >= dst:\n",
    "        return 'Delete'\n",
    "    else :\n",
    "        return 'Keep'"
   ]
  },
  {
   "cell_type": "code",
   "execution_count": 20,
   "metadata": {},
   "outputs": [
    {
     "name": "stdout",
     "output_type": "stream",
     "text": [
      "+---+---+-------+\n",
      "|src|dst|   type|\n",
      "+---+---+-------+\n",
      "|  1|  2| friend|\n",
      "|  1|  3| friend|\n",
      "|  2|  3|follows|\n",
      "|  3|  4| friend|\n",
      "|  3|  5| friend|\n",
      "|  4|  5|follows|\n",
      "| 98| 99| friend|\n",
      "+---+---+-------+\n",
      "\n"
     ]
    }
   ],
   "source": [
    "copy.withColumn('undir', to_undir(copy.src, copy.dst))\\\n",
    ".filter('undir ==\"Keep\"').drop('undir').show()"
   ]
  },
  {
   "cell_type": "code",
   "execution_count": 21,
   "metadata": {},
   "outputs": [],
   "source": [
    "## for efficiently, it's better to avoid udf functions where possible\n",
    "## and use built-in pyspakr.sql.functions instead"
   ]
  },
  {
   "cell_type": "code",
   "execution_count": 22,
   "metadata": {},
   "outputs": [],
   "source": [
    "## Filtering and connected components"
   ]
  },
  {
   "cell_type": "code",
   "execution_count": 23,
   "metadata": {},
   "outputs": [
    {
     "name": "stdout",
     "output_type": "stream",
     "text": [
      "+---+------+---------+---+\n",
      "| id|  name|firstname|age|\n",
      "+---+------+---------+---+\n",
      "|  1|Carter|  Derrick| 50|\n",
      "|  3| Mills|     Jeff| 80|\n",
      "|  4|  Hood|   Robert| 65|\n",
      "|  5| Banks|     Mike| 93|\n",
      "+---+------+---------+---+\n",
      "\n"
     ]
    }
   ],
   "source": [
    "g.vertices.filter(\"age>30\").show()"
   ]
  },
  {
   "cell_type": "code",
   "execution_count": 24,
   "metadata": {},
   "outputs": [
    {
     "name": "stdout",
     "output_type": "stream",
     "text": [
      "+---+--------+\n",
      "| id|inDegree|\n",
      "+---+--------+\n",
      "|  3|       4|\n",
      "|  5|       2|\n",
      "|  1|       2|\n",
      "+---+--------+\n",
      "\n"
     ]
    }
   ],
   "source": [
    "g.inDegrees.filter(\"inDegree >= 2\").sort(\"inDegree\",ascending=False).show()"
   ]
  },
  {
   "cell_type": "code",
   "execution_count": 26,
   "metadata": {},
   "outputs": [
    {
     "name": "stdout",
     "output_type": "stream",
     "text": [
      "+---+---+------+\n",
      "|src|dst|  type|\n",
      "+---+---+------+\n",
      "|  1|  2|friend|\n",
      "|  2|  1|friend|\n",
      "|  3|  1|friend|\n",
      "|  1|  3|friend|\n",
      "|  3|  4|friend|\n",
      "|  4|  3|friend|\n",
      "|  5|  3|friend|\n",
      "|  3|  5|friend|\n",
      "| 98| 99|friend|\n",
      "| 99| 98|friend|\n",
      "+---+---+------+\n",
      "\n"
     ]
    }
   ],
   "source": [
    "g.edges.filter('type ==\"friend\"').show()"
   ]
  },
  {
   "cell_type": "code",
   "execution_count": 27,
   "metadata": {},
   "outputs": [],
   "source": [
    "sc.setCheckpointDir('graphframes_cps')"
   ]
  },
  {
   "cell_type": "code",
   "execution_count": 28,
   "metadata": {},
   "outputs": [
    {
     "name": "stdout",
     "output_type": "stream",
     "text": [
      "+---+------+---------+---+------------+\n",
      "| id|  name|firstname|age|   component|\n",
      "+---+------+---------+---+------------+\n",
      "|  1|Carter|  Derrick| 50|154618822656|\n",
      "|  2|   May|  Derrick| 26|154618822656|\n",
      "|  3| Mills|     Jeff| 80|154618822656|\n",
      "|  4|  Hood|   Robert| 65|154618822656|\n",
      "|  5| Banks|     Mike| 93|154618822656|\n",
      "| 98|  Berg|      Tim| 28|317827579904|\n",
      "| 99|  Page|    Allan| 16|317827579904|\n",
      "+---+------+---------+---+------------+\n",
      "\n"
     ]
    }
   ],
   "source": [
    "g.connectedComponents().show()"
   ]
  },
  {
   "cell_type": "code",
   "execution_count": 29,
   "metadata": {},
   "outputs": [],
   "source": [
    "## Motif finding"
   ]
  },
  {
   "cell_type": "code",
   "execution_count": 30,
   "metadata": {},
   "outputs": [
    {
     "name": "stdout",
     "output_type": "stream",
     "text": [
      "+--------------------+----------------+--------------------+----------------+\n",
      "|                   a|               e|                   b|              e2|\n",
      "+--------------------+----------------+--------------------+----------------+\n",
      "| [98, Berg, Tim, 28]|[98, 99, friend]|[99, Page, Allan,...|[99, 98, friend]|\n",
      "|[2, May, Derrick,...|  [2, 1, friend]|[1, Carter, Derri...|  [1, 2, friend]|\n",
      "|[99, Page, Allan,...|[99, 98, friend]| [98, Berg, Tim, 28]|[98, 99, friend]|\n",
      "|[3, Mills, Jeff, 80]|  [3, 5, friend]|[5, Banks, Mike, 93]|  [5, 3, friend]|\n",
      "|[1, Carter, Derri...|  [1, 3, friend]|[3, Mills, Jeff, 80]|  [3, 1, friend]|\n",
      "|[3, Mills, Jeff, 80]|  [3, 1, friend]|[1, Carter, Derri...|  [1, 3, friend]|\n",
      "|[5, Banks, Mike, 93]|  [5, 3, friend]|[3, Mills, Jeff, 80]|  [3, 5, friend]|\n",
      "|[4, Hood, Robert,...|  [4, 3, friend]|[3, Mills, Jeff, 80]|  [3, 4, friend]|\n",
      "|[1, Carter, Derri...|  [1, 2, friend]|[2, May, Derrick,...|  [2, 1, friend]|\n",
      "|[3, Mills, Jeff, 80]|  [3, 4, friend]|[4, Hood, Robert,...|  [4, 3, friend]|\n",
      "+--------------------+----------------+--------------------+----------------+\n",
      "\n"
     ]
    }
   ],
   "source": [
    "g.find(\"(a)-[e]->(b); (b)-[e2]->(a)\").show()"
   ]
  },
  {
   "cell_type": "code",
   "execution_count": 32,
   "metadata": {},
   "outputs": [],
   "source": [
    "mutualFriends = g.find(\"(a)-[]->(b); (b)-[]->(c); (c)-[]->(b); (b)-[]->(a)\").dropDuplicates()"
   ]
  },
  {
   "cell_type": "code",
   "execution_count": 33,
   "metadata": {},
   "outputs": [
    {
     "name": "stdout",
     "output_type": "stream",
     "text": [
      "+--------------------+--------------------+--------------------+\n",
      "|                   a|                   b|                   c|\n",
      "+--------------------+--------------------+--------------------+\n",
      "|[2, May, Derrick,...|[1, Carter, Derri...|[3, Mills, Jeff, 80]|\n",
      "+--------------------+--------------------+--------------------+\n",
      "\n"
     ]
    }
   ],
   "source": [
    "mutualFriends.filter('a.id == 2 and c.id == 3').show()"
   ]
  },
  {
   "cell_type": "code",
   "execution_count": 34,
   "metadata": {},
   "outputs": [],
   "source": [
    "## Triangle Count and Page Rank"
   ]
  },
  {
   "cell_type": "code",
   "execution_count": 35,
   "metadata": {},
   "outputs": [
    {
     "name": "stdout",
     "output_type": "stream",
     "text": [
      "+-----+---+------+---------+---+\n",
      "|count| id|  name|firstname|age|\n",
      "+-----+---+------+---------+---+\n",
      "|    2|  3| Mills|     Jeff| 80|\n",
      "|    0| 98|  Berg|      Tim| 28|\n",
      "|    0| 99|  Page|    Allan| 16|\n",
      "|    1|  5| Banks|     Mike| 93|\n",
      "|    1|  1|Carter|  Derrick| 50|\n",
      "|    1|  4|  Hood|   Robert| 65|\n",
      "|    1|  2|   May|  Derrick| 26|\n",
      "+-----+---+------+---------+---+\n",
      "\n"
     ]
    }
   ],
   "source": [
    "g.triangleCount().show()"
   ]
  },
  {
   "cell_type": "code",
   "execution_count": 36,
   "metadata": {},
   "outputs": [],
   "source": [
    "pr = g.pageRank(resetProbability = 0.15, tol = 0.01)"
   ]
  },
  {
   "cell_type": "code",
   "execution_count": 37,
   "metadata": {},
   "outputs": [
    {
     "name": "stdout",
     "output_type": "stream",
     "text": [
      "+---+------+---------+---+------------------+\n",
      "| id|  name|firstname|age|          pagerank|\n",
      "+---+------+---------+---+------------------+\n",
      "|  1|Carter|  Derrick| 50|0.9055074972891308|\n",
      "|  3| Mills|     Jeff| 80| 1.853919642738813|\n",
      "|  2|   May|  Derrick| 26|0.5377967999474921|\n",
      "|  4|  Hood|   Robert| 65|0.6873519241384106|\n",
      "| 98|  Berg|      Tim| 28|1.0225331112091938|\n",
      "|  5| Banks|     Mike| 93|0.9703579134677663|\n",
      "| 99|  Page|    Allan| 16|1.0225331112091938|\n",
      "+---+------+---------+---+------------------+\n",
      "\n"
     ]
    }
   ],
   "source": [
    "## look at the pagerank score for every vertex\n",
    "pr.vertices.show()"
   ]
  },
  {
   "cell_type": "code",
   "execution_count": 38,
   "metadata": {},
   "outputs": [
    {
     "name": "stdout",
     "output_type": "stream",
     "text": [
      "+---+---+-------+------------------+\n",
      "|src|dst|   type|            weight|\n",
      "+---+---+-------+------------------+\n",
      "|  1|  2| friend|               0.5|\n",
      "| 99| 98| friend|               1.0|\n",
      "|  1|  3| friend|               0.5|\n",
      "|  4|  5|follows|               0.5|\n",
      "|  5|  3| friend|               1.0|\n",
      "| 98| 99| friend|               1.0|\n",
      "|  3|  5| friend|0.3333333333333333|\n",
      "|  4|  3| friend|               0.5|\n",
      "|  2|  1| friend|               0.5|\n",
      "|  3|  4| friend|0.3333333333333333|\n",
      "|  3|  1| friend|0.3333333333333333|\n",
      "|  2|  3|follows|               0.5|\n",
      "+---+---+-------+------------------+\n",
      "\n"
     ]
    }
   ],
   "source": [
    "## look at the weight of every edge\n",
    "pr.edges.show()"
   ]
  },
  {
   "cell_type": "code",
   "execution_count": null,
   "metadata": {},
   "outputs": [],
   "source": []
  }
 ],
 "metadata": {
  "kernelspec": {
   "display_name": "Python 3",
   "language": "python",
   "name": "python3"
  },
  "language_info": {
   "codemirror_mode": {
    "name": "ipython",
    "version": 3
   },
   "file_extension": ".py",
   "mimetype": "text/x-python",
   "name": "python",
   "nbconvert_exporter": "python",
   "pygments_lexer": "ipython3",
   "version": "3.6.9"
  }
 },
 "nbformat": 4,
 "nbformat_minor": 4
}
